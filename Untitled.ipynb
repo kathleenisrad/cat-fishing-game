{
 "cells": [
  {
   "cell_type": "code",
   "execution_count": 1,
   "id": "8f0bc551",
   "metadata": {},
   "outputs": [],
   "source": [
    "import os"
   ]
  },
  {
   "cell_type": "code",
   "execution_count": 2,
   "id": "93dc74af",
   "metadata": {},
   "outputs": [
    {
     "data": {
      "text/plain": [
       "['bobber1.png', 'bobber2.png']"
      ]
     },
     "execution_count": 2,
     "metadata": {},
     "output_type": "execute_result"
    }
   ],
   "source": [
    "[img for img in os.listdir('data/images/bobber')]"
   ]
  },
  {
   "cell_type": "code",
   "execution_count": 3,
   "id": "850f3283",
   "metadata": {},
   "outputs": [
    {
     "data": {
      "text/plain": [
       "'data/images/bobberbobber1.png'"
      ]
     },
     "execution_count": 3,
     "metadata": {},
     "output_type": "execute_result"
    }
   ],
   "source": [
    "'data/images/bobber' + 'bobber1.png'"
   ]
  },
  {
   "cell_type": "code",
   "execution_count": null,
   "id": "916a9513",
   "metadata": {},
   "outputs": [],
   "source": []
  }
 ],
 "metadata": {
  "kernelspec": {
   "display_name": "Python 3",
   "language": "python",
   "name": "python3"
  },
  "language_info": {
   "codemirror_mode": {
    "name": "ipython",
    "version": 3
   },
   "file_extension": ".py",
   "mimetype": "text/x-python",
   "name": "python",
   "nbconvert_exporter": "python",
   "pygments_lexer": "ipython3",
   "version": "3.8.8"
  }
 },
 "nbformat": 4,
 "nbformat_minor": 5
}
